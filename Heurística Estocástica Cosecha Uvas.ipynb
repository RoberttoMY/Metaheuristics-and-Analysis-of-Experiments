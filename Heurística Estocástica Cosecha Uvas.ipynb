{
 "cells": [
  {
   "cell_type": "markdown",
   "metadata": {},
   "source": [
    "# Optimizacion Modelo Cosecha Uvas 2"
   ]
  },
  {
   "cell_type": "code",
   "execution_count": 1,
   "metadata": {},
   "outputs": [
    {
     "name": "stderr",
     "output_type": "stream",
     "text": [
      "\n",
      "Bad key text.latex.unicode in file C:\\Users\\LabCivil1-Pc1\\Anaconda3\\lib\\site-packages\\matplotlib\\mpl-data\\stylelib\\_classic_test.mplstyle, line 112 ('text.latex.unicode : False # use \"ucs\" and \"inputenc\" LaTeX packages for handling')\n",
      "You probably need to get an updated matplotlibrc file from\n",
      "https://github.com/matplotlib/matplotlib/blob/v3.3.4/matplotlibrc.template\n",
      "or from the matplotlib source distribution\n",
      "\n",
      "Bad key savefig.frameon in file C:\\Users\\LabCivil1-Pc1\\Anaconda3\\lib\\site-packages\\matplotlib\\mpl-data\\stylelib\\_classic_test.mplstyle, line 423 ('savefig.frameon : True')\n",
      "You probably need to get an updated matplotlibrc file from\n",
      "https://github.com/matplotlib/matplotlib/blob/v3.3.4/matplotlibrc.template\n",
      "or from the matplotlib source distribution\n",
      "\n",
      "Bad key pgf.debug in file C:\\Users\\LabCivil1-Pc1\\Anaconda3\\lib\\site-packages\\matplotlib\\mpl-data\\stylelib\\_classic_test.mplstyle, line 444 ('pgf.debug           : False')\n",
      "You probably need to get an updated matplotlibrc file from\n",
      "https://github.com/matplotlib/matplotlib/blob/v3.3.4/matplotlibrc.template\n",
      "or from the matplotlib source distribution\n",
      "\n",
      "Bad key verbose.level in file C:\\Users\\LabCivil1-Pc1\\Anaconda3\\lib\\site-packages\\matplotlib\\mpl-data\\stylelib\\_classic_test.mplstyle, line 475 ('verbose.level  : silent      # one of silent, helpful, debug, debug-annoying')\n",
      "You probably need to get an updated matplotlibrc file from\n",
      "https://github.com/matplotlib/matplotlib/blob/v3.3.4/matplotlibrc.template\n",
      "or from the matplotlib source distribution\n",
      "\n",
      "Bad key verbose.fileo in file C:\\Users\\LabCivil1-Pc1\\Anaconda3\\lib\\site-packages\\matplotlib\\mpl-data\\stylelib\\_classic_test.mplstyle, line 476 ('verbose.fileo  : sys.stdout  # a log filename, sys.stdout or sys.stderr')\n",
      "You probably need to get an updated matplotlibrc file from\n",
      "https://github.com/matplotlib/matplotlib/blob/v3.3.4/matplotlibrc.template\n",
      "or from the matplotlib source distribution\n",
      "In C:\\Users\\LabCivil1-Pc1\\Anaconda3\\lib\\site-packages\\matplotlib\\mpl-data\\stylelib\\_classic_test.mplstyle: \n",
      "The text.latex.preview rcparam was deprecated in Matplotlib 3.3 and will be removed two minor releases later.\n",
      "In C:\\Users\\LabCivil1-Pc1\\Anaconda3\\lib\\site-packages\\matplotlib\\mpl-data\\stylelib\\_classic_test.mplstyle: \n",
      "The mathtext.fallback_to_cm rcparam was deprecated in Matplotlib 3.3 and will be removed two minor releases later.\n",
      "In C:\\Users\\LabCivil1-Pc1\\Anaconda3\\lib\\site-packages\\matplotlib\\mpl-data\\stylelib\\_classic_test.mplstyle: Support for setting the 'mathtext.fallback_to_cm' rcParam is deprecated since 3.3 and will be removed two minor releases later; use 'mathtext.fallback : 'cm' instead.\n",
      "In C:\\Users\\LabCivil1-Pc1\\Anaconda3\\lib\\site-packages\\matplotlib\\mpl-data\\stylelib\\_classic_test.mplstyle: \n",
      "The validate_bool_maybe_none function was deprecated in Matplotlib 3.3 and will be removed two minor releases later.\n",
      "In C:\\Users\\LabCivil1-Pc1\\Anaconda3\\lib\\site-packages\\matplotlib\\mpl-data\\stylelib\\_classic_test.mplstyle: \n",
      "The savefig.jpeg_quality rcparam was deprecated in Matplotlib 3.3 and will be removed two minor releases later.\n",
      "In C:\\Users\\LabCivil1-Pc1\\Anaconda3\\lib\\site-packages\\matplotlib\\mpl-data\\stylelib\\_classic_test.mplstyle: \n",
      "The keymap.all_axes rcparam was deprecated in Matplotlib 3.3 and will be removed two minor releases later.\n",
      "In C:\\Users\\LabCivil1-Pc1\\Anaconda3\\lib\\site-packages\\matplotlib\\mpl-data\\stylelib\\_classic_test.mplstyle: \n",
      "The animation.avconv_path rcparam was deprecated in Matplotlib 3.3 and will be removed two minor releases later.\n",
      "In C:\\Users\\LabCivil1-Pc1\\Anaconda3\\lib\\site-packages\\matplotlib\\mpl-data\\stylelib\\_classic_test.mplstyle: \n",
      "The animation.avconv_args rcparam was deprecated in Matplotlib 3.3 and will be removed two minor releases later.\n",
      "C:\\Users\\LabCivil1-Pc1\\AppData\\Roaming\\Python\\Python36\\site-packages\\statsmodels\\tools\\_testing.py:19: FutureWarning: pandas.util.testing is deprecated. Use the functions in the public API at pandas.testing instead.\n",
      "  import pandas.util.testing as tm\n"
     ]
    }
   ],
   "source": [
    "from gurobipy import *\n",
    "import numpy as np\n",
    "import pandas as pd\n",
    "import math as mt\n",
    "import random\n",
    "import scipy.stats as st\n",
    "import matplotlib.pyplot as plt\n",
    "import statsmodels.api as ss\n",
    "from statsmodels.formula.api import ols\n",
    "from statsmodels.stats.anova import anova_lm\n",
    "from statsmodels.graphics.factorplots import interaction_plot\n",
    "from  statsmodels.stats.multicomp import pairwise_tukeyhsd"
   ]
  },
  {
   "cell_type": "raw",
   "metadata": {},
   "source": [
    "def Qt(t,a,b):  #Costo por perdida de calidad de la uva\n",
    "        Qt=max(-a*(t-b)**2+1,0)\n",
    "        return Qt"
   ]
  },
  {
   "cell_type": "raw",
   "metadata": {},
   "source": [
    "J=1\n",
    "T=10\n",
    "bloques=[j+1 for j in range(J)]\n",
    "periodos=[t+1 for t in range(T)]\n",
    "C=0.3\n",
    "a_q=1/10\n",
    "b_q=5"
   ]
  },
  {
   "cell_type": "raw",
   "metadata": {},
   "source": [
    "m=Model(\"Optimizacion Cosecha Uvas2\")"
   ]
  },
  {
   "cell_type": "raw",
   "metadata": {},
   "source": [
    "x=m.addVars(bloques, periodos, lb=0, ub=1, vtype=GRB.CONTINUOUS,name=\"x\")"
   ]
  },
  {
   "cell_type": "raw",
   "metadata": {},
   "source": [
    "obj=quicksum(x[j,t]*Qt(t,a_q,b_q) for j in bloques for t in periodos)\n",
    "m.setObjective(obj, sense=GRB.MAXIMIZE)"
   ]
  },
  {
   "cell_type": "raw",
   "metadata": {},
   "source": [
    "m.addConstrs(quicksum(x[j,t] for j in bloques)<=C for t in periodos)\n",
    "m.addConstrs(quicksum(x[j,t] for t in periodos)==1 for j in bloques)"
   ]
  },
  {
   "cell_type": "raw",
   "metadata": {},
   "source": [
    "m.optimize()"
   ]
  },
  {
   "cell_type": "raw",
   "metadata": {},
   "source": [
    "print(\"FO: \"+str(m.ObjVal))\n",
    "for j in bloques:\n",
    "    for t in periodos:\n",
    "        if x[j,t].x>0:\n",
    "            print(x[j,t])"
   ]
  },
  {
   "cell_type": "markdown",
   "metadata": {},
   "source": [
    "# Metaheuristica Recocido Simulado Cosecha Uvas"
   ]
  },
  {
   "cell_type": "markdown",
   "metadata": {},
   "source": [
    "### Definiendo Funciones"
   ]
  },
  {
   "cell_type": "markdown",
   "metadata": {},
   "source": [
    "##### Parametros"
   ]
  },
  {
   "cell_type": "code",
   "execution_count": 2,
   "metadata": {},
   "outputs": [],
   "source": [
    "def parametros(J,T,C):\n",
    "    np.random.seed(1)\n",
    "    #J=1\n",
    "    #T=10\n",
    "    bloques=[j+1 for j in range(J)]\n",
    "    periodos=[t+1 for t in range(T)]\n",
    "    #C=0.3\n",
    "    C=C\n",
    "    return bloques, periodos, C"
   ]
  },
  {
   "cell_type": "markdown",
   "metadata": {},
   "source": [
    "##### Funcion Calidad"
   ]
  },
  {
   "cell_type": "code",
   "execution_count": 3,
   "metadata": {},
   "outputs": [],
   "source": [
    "def Qt(t,a,b):  #Costo por perdida de calidad de la uva\n",
    "        Qt=max(-a*(t-b)**2+1,0)\n",
    "        return Qt"
   ]
  },
  {
   "cell_type": "markdown",
   "metadata": {},
   "source": [
    "##### Conjuntos"
   ]
  },
  {
   "cell_type": "code",
   "execution_count": 4,
   "metadata": {},
   "outputs": [],
   "source": [
    "bloques,periodos,C=parametros(J=1,T=10,C=0.3)"
   ]
  },
  {
   "cell_type": "markdown",
   "metadata": {},
   "source": [
    "##### Modelo de Optimizacion"
   ]
  },
  {
   "cell_type": "code",
   "execution_count": 5,
   "metadata": {},
   "outputs": [],
   "source": [
    "def optimizacion(bloques,periodos,a_q,b_q,C):\n",
    "    m=Model(\"Optimizacion Cosecha Uvas2\")\n",
    "    m.setParam('LogToConsole', 0)\n",
    "    x=m.addVars(bloques, periodos, lb=0, ub=1, vtype=GRB.CONTINUOUS,name=\"x\")\n",
    "    obj=quicksum(x[j,t]*Qt(t,a_q,b_q) for j in bloques for t in periodos)\n",
    "    m.setObjective(obj, sense=GRB.MAXIMIZE)\n",
    "    m.addConstrs(quicksum(x[j,t] for j in bloques)<=C for t in periodos)\n",
    "    m.addConstrs(quicksum(x[j,t] for t in periodos)==1 for j in bloques)\n",
    "    m.update()\n",
    "    m.optimize()\n",
    "    objetive=m.objVal\n",
    "    X={(j,t):round(x[j,t].x) for j in bloques for t in periodos}\n",
    "    #X={(j,t):0.3 for j in bloques for t in periodos}\n",
    "    L={(j,t):0 for j in bloques for t in periodos}\n",
    "    U={(j,t):C for j in bloques for t in periodos}\n",
    "    \n",
    "    return objetive,X,L,U"
   ]
  },
  {
   "cell_type": "code",
   "execution_count": 6,
   "metadata": {},
   "outputs": [
    {
     "name": "stdout",
     "output_type": "stream",
     "text": [
      "Academic license - for non-commercial use only - expires 2022-01-12\n",
      "Using license file C:\\Users\\LabCivil1-Pc1\\gurobi.lic\n"
     ]
    }
   ],
   "source": [
    "a_q=1/10\n",
    "b_q=5\n",
    "O,X,L,U=optimizacion(bloques=bloques,periodos=periodos,a_q=a_q,b_q=b_q,C=C)"
   ]
  },
  {
   "cell_type": "markdown",
   "metadata": {},
   "source": [
    "##### Funcion de Penalidad"
   ]
  },
  {
   "cell_type": "code",
   "execution_count": 7,
   "metadata": {},
   "outputs": [],
   "source": [
    "def I(X,L,U):\n",
    "    sum1=0\n",
    "    for t in periodos:\n",
    "        sum1+=max(0,sum(X[j,t] for j in bloques)-C)\n",
    "    \n",
    "    sum2=0\n",
    "    for j in bloques:\n",
    "        sum2+=max(0,abs(sum(X[j,t] for t in periodos)-1))\n",
    "    \n",
    "    sum3=0\n",
    "    for j in bloques:\n",
    "        for t in periodos:\n",
    "            sum3+=(max(0,L[j,t]-X[j,t])+max(0,X[j,t]-U[j,t]))\n",
    "    \n",
    "    I=sum1+sum2+sum3\n",
    "    \n",
    "    return I"
   ]
  },
  {
   "cell_type": "markdown",
   "metadata": {},
   "source": [
    "##### Funcion Objetivo"
   ]
  },
  {
   "cell_type": "code",
   "execution_count": 8,
   "metadata": {},
   "outputs": [],
   "source": [
    "def Z(X):\n",
    "    z=sum(X[j,t]*Qt(t,a_q,b_q) for j in bloques for t in periodos)\n",
    "    return z"
   ]
  },
  {
   "cell_type": "markdown",
   "metadata": {},
   "source": [
    "##### Metaheuristica Recocido Simulado"
   ]
  },
  {
   "cell_type": "code",
   "execution_count": 9,
   "metadata": {},
   "outputs": [],
   "source": [
    "def SA(iteraciones,T_o,r,a_o,I_o,Z_o,a,n,k,k_,E,Zs,Xs,X):\n",
    "    for i in range(iteraciones):\n",
    "        l=k*random.randrange(-1,2,2)\n",
    "        z=np.random.randint(1,len(periodos))\n",
    "        #print(z)\n",
    "        #print(l)\n",
    "        N=dict(X)\n",
    "        N[1,z]=min(max(N[1,z]+l,L[1,z]),U[1,z])\n",
    "        Xt=dict(N)\n",
    "        #print(Xt)\n",
    "        It=I(Xt,L,U)\n",
    "        #print(It)\n",
    "        if It<I_o:\n",
    "            I_o=It\n",
    "        if Xt not in E:\n",
    "            E.append(Xt)\n",
    "            if It>0:\n",
    "                #E.append(Xt)\n",
    "                X=dict(Xt)\n",
    "            else:\n",
    "                Zt=Z(Xt)\n",
    "                if Zt>=Z_o:\n",
    "                    E.append(Xt)\n",
    "                    Xs.append(Xt)\n",
    "                    X=dict(Xt)\n",
    "                    Z_o=Zt\n",
    "                    Zs[i,l]=Zt\n",
    "                    a+=1\n",
    "                else:\n",
    "                    if np.random.random()<=mt.e**(-abs(Z_o-Zt)/T_o):\n",
    "                        E.append(Xt)\n",
    "                        Xs.append(Xt)\n",
    "                        X=dict(Xt)\n",
    "                        Z_o=Zt\n",
    "                        Zs[i,l]=Zt\n",
    "                        a+=1\n",
    "        if a==a_o:\n",
    "            a=0\n",
    "            n+=1\n",
    "            T_o=float(r*T_o)\n",
    "    return n,Z_o,I_o,T_o"
   ]
  },
  {
   "cell_type": "raw",
   "metadata": {},
   "source": [
    "#segundo modelo\n",
    "def SA(iteraciones,T_o,r,a_o,I_o,Z_o,a,n,k,k_,E,Zs,Xs,X):\n",
    "    for i in range(iteraciones):\n",
    "        z=np.random.randint(1,len(periodos))\n",
    "        for l in k_:\n",
    "            #print(z)\n",
    "            #print(l)\n",
    "            N=dict(X)\n",
    "            N[1,z]=min(max(N[1,z]+l,L[1,z]),U[1,z])\n",
    "            It=I(N,L,U)\n",
    "            #print(It)\n",
    "            if It<I_o:\n",
    "                I_o=It\n",
    "            Xt=dict(N)\n",
    "            #print(Xt)\n",
    "            if Xt not in E:\n",
    "                E.append(Xt)\n",
    "                if It>0:\n",
    "                    E.append(Xt)\n",
    "                    X=dict(Xt)\n",
    "                else:\n",
    "                    Zt=Z(Xt)\n",
    "                    if Zt>=Z_o:\n",
    "                        E.append(Xt)\n",
    "                        Xs.append(Xt)\n",
    "                        X=dict(Xt)\n",
    "                        Z_o=Zt\n",
    "                        Zs[i,l]=Zt\n",
    "                        a+=1\n",
    "                    else:\n",
    "                        if np.random.random()<=mt.e**(-abs(Z_o-Zt)/T_o):\n",
    "                            E.append(Xt)\n",
    "                            Xs.append(Xt)\n",
    "                            X=dict(Xt)\n",
    "                            Z_o=Zt\n",
    "                            Zs[i,l]=Zt\n",
    "                            a+=1\n",
    "            if a==a_o:\n",
    "                a=0\n",
    "                n+=1\n",
    "                T_o=float(r*T_o)\n",
    "    return n,Z_o,I_o,T_o"
   ]
  },
  {
   "cell_type": "markdown",
   "metadata": {},
   "source": [
    "##### Prueba Metaheuristica"
   ]
  },
  {
   "cell_type": "code",
   "execution_count": 10,
   "metadata": {},
   "outputs": [],
   "source": [
    "T_o=0.75*O\n",
    "r=0.5\n",
    "a_o=2\n",
    "iteraciones=5000\n",
    "I_o=99999\n",
    "Z_o=-99999\n",
    "a=0\n",
    "n=0\n",
    "k=0.1\n",
    "k_=list(np.linspace(-k,k,2))\n",
    "E=[]\n",
    "E.append(X)\n",
    "Zs={(i,l):0 for i in range(iteraciones) for l in k_}\n",
    "Xs=[]\n",
    "n,Z_o,I_o,T_o=SA(iteraciones=iteraciones,T_o=T_o,r=r,a_o=a_o,I_o=I_o,Z_o=Z_o,a=a,n=n,k=k,k_=k_,E=E,Zs=Zs,Xs=Xs,X=X)"
   ]
  },
  {
   "cell_type": "code",
   "execution_count": 11,
   "metadata": {},
   "outputs": [
    {
     "data": {
      "text/plain": [
       "(8,\n",
       " 0.68,\n",
       " 0,\n",
       " 0.00263671875,\n",
       " [{(1, 1): 0.1,\n",
       "   (1, 2): 0.2,\n",
       "   (1, 3): 0.0,\n",
       "   (1, 4): 0,\n",
       "   (1, 5): 0,\n",
       "   (1, 6): 0.2,\n",
       "   (1, 7): 0.0,\n",
       "   (1, 8): 0.3,\n",
       "   (1, 9): 0.2,\n",
       "   (1, 10): 0},\n",
       "  {(1, 1): 0.0,\n",
       "   (1, 2): 0.3,\n",
       "   (1, 3): 0.1,\n",
       "   (1, 4): 0.3,\n",
       "   (1, 5): 0.0,\n",
       "   (1, 6): 0.09999999999999998,\n",
       "   (1, 7): 0.2,\n",
       "   (1, 8): 0.0,\n",
       "   (1, 9): 0.0,\n",
       "   (1, 10): 0},\n",
       "  {(1, 1): 0.0,\n",
       "   (1, 2): 0.19999999999999998,\n",
       "   (1, 3): 0.2,\n",
       "   (1, 4): 0.3,\n",
       "   (1, 5): 0.0,\n",
       "   (1, 6): 0.09999999999999998,\n",
       "   (1, 7): 0.2,\n",
       "   (1, 8): 0.0,\n",
       "   (1, 9): 0.0,\n",
       "   (1, 10): 0},\n",
       "  {(1, 1): 0.0,\n",
       "   (1, 2): 0.09999999999999998,\n",
       "   (1, 3): 0.3,\n",
       "   (1, 4): 0.3,\n",
       "   (1, 5): 0.0,\n",
       "   (1, 6): 0.09999999999999998,\n",
       "   (1, 7): 0.2,\n",
       "   (1, 8): 0.0,\n",
       "   (1, 9): 0.0,\n",
       "   (1, 10): 0},\n",
       "  {(1, 1): 0.0,\n",
       "   (1, 2): 0.1,\n",
       "   (1, 3): 0,\n",
       "   (1, 4): 0.19999999999999998,\n",
       "   (1, 5): 0.1,\n",
       "   (1, 6): 0.1,\n",
       "   (1, 7): 0,\n",
       "   (1, 8): 0.19999999999999998,\n",
       "   (1, 9): 0.3,\n",
       "   (1, 10): 0},\n",
       "  {(1, 1): 0.0,\n",
       "   (1, 2): 0.1,\n",
       "   (1, 3): 0,\n",
       "   (1, 4): 0.3,\n",
       "   (1, 5): 0.0,\n",
       "   (1, 6): 0.1,\n",
       "   (1, 7): 0,\n",
       "   (1, 8): 0.3,\n",
       "   (1, 9): 0.19999999999999998,\n",
       "   (1, 10): 0},\n",
       "  {(1, 1): 0.0,\n",
       "   (1, 2): 0.1,\n",
       "   (1, 3): 0,\n",
       "   (1, 4): 0.3,\n",
       "   (1, 5): 0.0,\n",
       "   (1, 6): 0.1,\n",
       "   (1, 7): 0.1,\n",
       "   (1, 8): 0.09999999999999998,\n",
       "   (1, 9): 0.3,\n",
       "   (1, 10): 0},\n",
       "  {(1, 1): 0.0,\n",
       "   (1, 2): 0.1,\n",
       "   (1, 3): 0.1,\n",
       "   (1, 4): 0.3,\n",
       "   (1, 5): 0.0,\n",
       "   (1, 6): 0.1,\n",
       "   (1, 7): 0.1,\n",
       "   (1, 8): 0,\n",
       "   (1, 9): 0.3,\n",
       "   (1, 10): 0},\n",
       "  {(1, 1): 0.0,\n",
       "   (1, 2): 0.1,\n",
       "   (1, 3): 0.0,\n",
       "   (1, 4): 0.19999999999999998,\n",
       "   (1, 5): 0.0,\n",
       "   (1, 6): 0.1,\n",
       "   (1, 7): 0.3,\n",
       "   (1, 8): 0,\n",
       "   (1, 9): 0.3,\n",
       "   (1, 10): 0},\n",
       "  {(1, 1): 0.19999999999999998,\n",
       "   (1, 2): 0,\n",
       "   (1, 3): 0.2,\n",
       "   (1, 4): 0.2,\n",
       "   (1, 5): 0.1,\n",
       "   (1, 6): 0.19999999999999998,\n",
       "   (1, 7): 0.1,\n",
       "   (1, 8): 0.0,\n",
       "   (1, 9): 0,\n",
       "   (1, 10): 0},\n",
       "  {(1, 1): 0.1,\n",
       "   (1, 2): 0.1,\n",
       "   (1, 3): 0,\n",
       "   (1, 4): 0.2,\n",
       "   (1, 5): 0.2,\n",
       "   (1, 6): 0.1,\n",
       "   (1, 7): 0.19999999999999998,\n",
       "   (1, 8): 0.1,\n",
       "   (1, 9): 0.0,\n",
       "   (1, 10): 0},\n",
       "  {(1, 1): 0.1,\n",
       "   (1, 2): 0,\n",
       "   (1, 3): 0.2,\n",
       "   (1, 4): 0.3,\n",
       "   (1, 5): 0.19999999999999998,\n",
       "   (1, 6): 0,\n",
       "   (1, 7): 0.09999999999999998,\n",
       "   (1, 8): 0,\n",
       "   (1, 9): 0.09999999999999998,\n",
       "   (1, 10): 0},\n",
       "  {(1, 1): 0.2,\n",
       "   (1, 2): 0,\n",
       "   (1, 3): 0.3,\n",
       "   (1, 4): 0.3,\n",
       "   (1, 5): 0.19999999999999998,\n",
       "   (1, 6): 0,\n",
       "   (1, 7): 0.0,\n",
       "   (1, 8): 0,\n",
       "   (1, 9): 0,\n",
       "   (1, 10): 0},\n",
       "  {(1, 1): 0.2,\n",
       "   (1, 2): 0,\n",
       "   (1, 3): 0.3,\n",
       "   (1, 4): 0.3,\n",
       "   (1, 5): 0.09999999999999998,\n",
       "   (1, 6): 0.1,\n",
       "   (1, 7): 0.0,\n",
       "   (1, 8): 0,\n",
       "   (1, 9): 0,\n",
       "   (1, 10): 0},\n",
       "  {(1, 1): 0.3,\n",
       "   (1, 2): 0.0,\n",
       "   (1, 3): 0.0,\n",
       "   (1, 4): 0.2,\n",
       "   (1, 5): 0.3,\n",
       "   (1, 6): 0.2,\n",
       "   (1, 7): 0.0,\n",
       "   (1, 8): 0.0,\n",
       "   (1, 9): 0.0,\n",
       "   (1, 10): 0},\n",
       "  {(1, 1): 0.0,\n",
       "   (1, 2): 0,\n",
       "   (1, 3): 0.0,\n",
       "   (1, 4): 0.1,\n",
       "   (1, 5): 0.3,\n",
       "   (1, 6): 0.1,\n",
       "   (1, 7): 0.3,\n",
       "   (1, 8): 0.2,\n",
       "   (1, 9): 0,\n",
       "   (1, 10): 0},\n",
       "  {(1, 1): 0.0,\n",
       "   (1, 2): 0.0,\n",
       "   (1, 3): 0.09999999999999998,\n",
       "   (1, 4): 0.0,\n",
       "   (1, 5): 0.3,\n",
       "   (1, 6): 0.19999999999999998,\n",
       "   (1, 7): 0.2,\n",
       "   (1, 8): 0.19999999999999998,\n",
       "   (1, 9): 0,\n",
       "   (1, 10): 0}])"
      ]
     },
     "execution_count": 11,
     "metadata": {},
     "output_type": "execute_result"
    }
   ],
   "source": [
    "n,Z_o,I_o,T_o,Xs"
   ]
  },
  {
   "cell_type": "markdown",
   "metadata": {},
   "source": [
    "# Generacion Datos Experimento (n=5)"
   ]
  },
  {
   "cell_type": "markdown",
   "metadata": {},
   "source": [
    "#### Diferentes a_q"
   ]
  },
  {
   "cell_type": "raw",
   "metadata": {},
   "source": [
    "a_qs=[1/5,1/15,1/30]\n",
    "for j in a_qs:\n",
    "    replicas=5\n",
    "    for g in range(replicas):\n",
    "        bloques,periodos,C=parametros(J=1,T=10,C=0.3)\n",
    "        #a_q=1/10\n",
    "        b_q=5\n",
    "        O,X,L,U=optimizacion(bloques=bloques,periodos=periodos,a_q=j,b_q=b_q,C=C)\n",
    "        T_o=0.75*O\n",
    "        r=0.5\n",
    "        a_o=2\n",
    "        iteraciones=5000\n",
    "        I_o=999999\n",
    "        Z_o=-99999\n",
    "        a=0\n",
    "        i=0\n",
    "        k=0.1\n",
    "        k_=list(np.linspace(-k,k,2))\n",
    "        E=[]\n",
    "        E.append(X)\n",
    "        Zs={(i,l):0 for i in range(iteraciones) for l in k_}\n",
    "        Xs=[]\n",
    "        n,Z_o,I_o,T_o=SA(iteraciones=iteraciones,T_o=T_o,r=r,a_o=a_o,I_o=I_o,Z_o=Z_o,a=a,n=n,k=k,k_=k_,E=E,Zs=Zs,Xs=Xs,X=X)\n",
    "        print(j,O,Z_o,n,I_o,T_o)   "
   ]
  },
  {
   "cell_type": "markdown",
   "metadata": {},
   "source": [
    "#### Diferentes T_o"
   ]
  },
  {
   "cell_type": "raw",
   "metadata": {},
   "source": [
    "T_os=[0.9,0.75,0.5]\n",
    "for j in T_os:\n",
    "    replicas=5\n",
    "    for g in range(replicas):\n",
    "        bloques,periodos,C=parametros(J=1,T=10,C=0.3)\n",
    "        a_q=1/10\n",
    "        b_q=5\n",
    "        O,X,L,U=optimizacion(bloques=bloques,periodos=periodos,a_q=a_q,b_q=b_q,C=C)\n",
    "        #T_o=0.75*O\n",
    "        T_o=j*O\n",
    "        r=0.5\n",
    "        a_o=2\n",
    "        iteraciones=5000\n",
    "        I_o=999999\n",
    "        Z_o=-99999\n",
    "        a=0\n",
    "        i=0\n",
    "        k=0.1\n",
    "        k_=list(np.linspace(-k,k,2))\n",
    "        E=[]\n",
    "        E.append(X)\n",
    "        Zs={(i,l):0 for i in range(iteraciones) for l in k_}\n",
    "        Xs=[]\n",
    "        n,Z_o,I_o,T_o=SA(iteraciones=iteraciones,T_o=T_o,r=r,a_o=a_o,I_o=I_o,Z_o=Z_o,a=a,n=n,k=k,k_=k_,E=E,Zs=Zs,Xs=Xs,X=X)\n",
    "        print(j,O,Z_o,n,I_o,T_o)  "
   ]
  },
  {
   "cell_type": "markdown",
   "metadata": {},
   "source": [
    "#### Diferentes r"
   ]
  },
  {
   "cell_type": "raw",
   "metadata": {},
   "source": [
    "r_s=[0.7,0.5,0.3]\n",
    "for j in r_s:\n",
    "    replicas=5\n",
    "    for g in range(replicas):\n",
    "        bloques,periodos,C=parametros(J=1,T=10,C=0.3)\n",
    "        a_q=1/10\n",
    "        b_q=5\n",
    "        O,X,L,U=optimizacion(bloques=bloques,periodos=periodos,a_q=a_q,b_q=b_q,C=C)\n",
    "        T_o=0.75*O\n",
    "        #r=0.5\n",
    "        a_o=2\n",
    "        iteraciones=5000\n",
    "        I_o=999999\n",
    "        Z_o=-99999\n",
    "        a=0\n",
    "        i=0\n",
    "        k=0.1\n",
    "        k_=list(np.linspace(-k,k,2))\n",
    "        E=[]\n",
    "        E.append(X)\n",
    "        Zs={(i,l):0 for i in range(iteraciones) for l in k_}\n",
    "        Xs=[]\n",
    "        n,Z_o,I_o,T_o=SA(iteraciones=iteraciones,T_o=T_o,r=j,a_o=a_o,I_o=I_o,Z_o=Z_o,a=a,n=n,k=k,k_=k_,E=E,Zs=Zs,Xs=Xs,X=X)\n",
    "        print(j,O,Z_o,n,I_o,T_o)  "
   ]
  },
  {
   "cell_type": "markdown",
   "metadata": {},
   "source": [
    "#### Diferentes k"
   ]
  },
  {
   "cell_type": "raw",
   "metadata": {},
   "source": [
    "k_s=[0.05,0.1,0.15]\n",
    "for j in k_s:\n",
    "    replicas=5\n",
    "    for g in range(replicas):\n",
    "        bloques,periodos,C=parametros(J=1,T=10,C=0.3)\n",
    "        a_q=1/10\n",
    "        b_q=5\n",
    "        O,X,L,U=optimizacion(bloques=bloques,periodos=periodos,a_q=a_q,b_q=b_q,C=C)\n",
    "        T_o=0.75*O\n",
    "        r=0.5\n",
    "        a_o=2\n",
    "        iteraciones=5000\n",
    "        I_o=999999\n",
    "        Z_o=-99999\n",
    "        a=0\n",
    "        i=0\n",
    "        #k=0.1\n",
    "        k_=list(np.linspace(-j,j,2))\n",
    "        E=[]\n",
    "        E.append(X)\n",
    "        Zs={(i,l):0 for i in range(iteraciones) for l in k_}\n",
    "        Xs=[]\n",
    "        n,Z_o,I_o,T_o=SA(iteraciones=iteraciones,T_o=T_o,r=r,a_o=a_o,I_o=I_o,Z_o=Z_o,a=a,n=n,k=j,k_=k_,E=E,Zs=Zs,Xs=Xs,X=X)\n",
    "        print(j,O,Z_o,n,I_o,T_o)  "
   ]
  },
  {
   "cell_type": "markdown",
   "metadata": {},
   "source": [
    "#### Diferentes iteraciones"
   ]
  },
  {
   "cell_type": "raw",
   "metadata": {},
   "source": [
    "iteraciones_s=[500,5000,10000]\n",
    "for j in iteraciones_s:\n",
    "    replicas=5\n",
    "    for g in range(replicas):\n",
    "        bloques,periodos,C=parametros(J=1,T=10,C=0.3)\n",
    "        a_q=1/10\n",
    "        b_q=5\n",
    "        O,X,L,U=optimizacion(bloques=bloques,periodos=periodos,a_q=a_q,b_q=b_q,C=C)\n",
    "        T_o=0.75*O\n",
    "        r=0.5\n",
    "        a_o=2\n",
    "        #iteraciones=5000\n",
    "        I_o=999999\n",
    "        Z_o=-99999\n",
    "        a=0\n",
    "        i=0\n",
    "        k=0.1\n",
    "        k_=list(np.linspace(-k,k,2))\n",
    "        E=[]\n",
    "        E.append(X)\n",
    "        Zs={(i,l):0 for i in range(iteraciones) for l in k_}\n",
    "        Xs=[]\n",
    "        n,Z_o,I_o,T_o=SA(iteraciones=j,T_o=T_o,r=r,a_o=a_o,I_o=I_o,Z_o=Z_o,a=a,n=n,k=k,k_=k_,E=E,Zs=Zs,Xs=Xs,X=X)\n",
    "        print(j,O,Z_o,n,I_o,T_o)  "
   ]
  },
  {
   "cell_type": "markdown",
   "metadata": {},
   "source": [
    "# Experimento1 2k"
   ]
  },
  {
   "cell_type": "code",
   "execution_count": null,
   "metadata": {},
   "outputs": [],
   "source": [
    "#Combinaciones de parametros a_qs, T_os, r_s, k_s, iteraciones\n",
    "\n",
    "rows=[]\n",
    "a_qs=[1,20]\n",
    "T_os=[0.1,0.9]\n",
    "r_s=[0.1,0.9]\n",
    "k_s=[0.05,0.25]\n",
    "iteraciones=[500,10000]\n",
    "replicas=10\n",
    "comb=[(q,j,y,e,g) for q in a_qs for j in T_os for y in r_s for e in k_s for g in iteraciones for s in range(replicas)]\n",
    "random.shuffle(comb)\n",
    "\n",
    "for (q,j,y,e,g) in comb:\n",
    "    bloques,periodos,C=parametros(J=1,T=10,C=0.3)\n",
    "    #a_q=1/10\n",
    "    a_q=q\n",
    "    b_q=5\n",
    "    O,X,L,U=optimizacion(bloques=bloques,periodos=periodos,a_q=a_q,b_q=b_q,C=C)\n",
    "    T_o=j*O #Temperatura modificada\n",
    "    #r=0.5\n",
    "    a_o=2\n",
    "    #iteraciones=5000\n",
    "    iteraciones=g\n",
    "    I_o=999999\n",
    "    Z_o=-99999\n",
    "    a=0\n",
    "    i=0\n",
    "    #k=0.1\n",
    "    k_=list(np.linspace(-e,e,2))\n",
    "    E=[]\n",
    "    E.append(X)\n",
    "    Zs={(i,l):0 for i in range(iteraciones) for l in k_}\n",
    "    Xs=[]\n",
    "    n,Z_o,I_o,T_o=SA(iteraciones=iteraciones,T_o=T_o,r=y,a_o=a_o,I_o=I_o,Z_o=Z_o,a=a,n=n,k=e,k_=k_,E=E,Zs=Zs,Xs=Xs,X=X)\n",
    "    #print(j,y,e,O,Z_o,n,I_o,T_o) \n",
    "    row = {\n",
    "        'aq':q,\n",
    "        'temperatura':j*O,\n",
    "        'reduccion':y,\n",
    "        'paso':e,\n",
    "        'iteraciones':g,\n",
    "        'objective_base':O,\n",
    "        'objective_sa':Z_o,\n",
    "        'gap':abs(O-Z_o)/O if Z_o!=-99999 else 1,\n",
    "        'n':n,\n",
    "        'I_o':I_o,\n",
    "        'T_of':T_o,\n",
    "    }\n",
    "    rows.append(row)\n",
    "df_datos = pd.DataFrame(rows)"
   ]
  },
  {
   "cell_type": "code",
   "execution_count": null,
   "metadata": {},
   "outputs": [],
   "source": [
    "df_datos.to_excel('DatosExperimento.xlsx', index=0)"
   ]
  },
  {
   "cell_type": "code",
   "execution_count": null,
   "metadata": {},
   "outputs": [],
   "source": [
    "df_datos"
   ]
  },
  {
   "cell_type": "markdown",
   "metadata": {},
   "source": [
    "# Experimento2 2k"
   ]
  },
  {
   "cell_type": "code",
   "execution_count": 12,
   "metadata": {},
   "outputs": [],
   "source": [
    "#Combinaciones de parametros T_os, r_s, k_s, iteraciones\n",
    "\n",
    "rows=[]\n",
    "T_os=[0.1,0.9]\n",
    "r_s=[0.1,0.9]\n",
    "k_s=[0.05,0.25]\n",
    "iteraciones=[500,10000]\n",
    "replicas=10\n",
    "comb=[(j,y,e,g) for j in T_os for y in r_s for e in k_s for g in iteraciones for s in range(replicas)]\n",
    "random.shuffle(comb)\n",
    "\n",
    "for (j,y,e,g) in comb:\n",
    "    bloques,periodos,C=parametros(J=1,T=10,C=0.3)\n",
    "    a_q=1/10\n",
    "    b_q=5\n",
    "    O,X,L,U=optimizacion(bloques=bloques,periodos=periodos,a_q=a_q,b_q=b_q,C=C)\n",
    "    T_o=j*O #Temperatura modificada\n",
    "    #r=0.5\n",
    "    a_o=2\n",
    "    #iteraciones=5000\n",
    "    iteraciones=g\n",
    "    I_o=999999\n",
    "    Z_o=-99999\n",
    "    a=0\n",
    "    i=0\n",
    "    #k=0.1\n",
    "    k_=list(np.linspace(-e,e,2))\n",
    "    E=[]\n",
    "    E.append(X)\n",
    "    Zs={(i,l):0 for i in range(iteraciones) for l in k_}\n",
    "    Xs=[]\n",
    "    n,Z_o,I_o,T_o=SA(iteraciones=iteraciones,T_o=T_o,r=y,a_o=a_o,I_o=I_o,Z_o=Z_o,a=a,n=n,k=e,k_=k_,E=E,Zs=Zs,Xs=Xs,X=X)\n",
    "    #print(j,y,e,O,Z_o,n,I_o,T_o) \n",
    "    row = {\n",
    "        'temperatura':j*O,\n",
    "        'reduccion':y,\n",
    "        'paso':e,\n",
    "        'iteraciones':g,\n",
    "        'objective_base':O,\n",
    "        'objective_sa':Z_o,\n",
    "        'gap':abs(O-Z_o)/O if Z_o!=-99999 else 1,\n",
    "        'n':n,\n",
    "        'I_o':I_o,\n",
    "        'T_of':T_o,\n",
    "    }\n",
    "    rows.append(row)\n",
    "df2_datos = pd.DataFrame(rows)"
   ]
  },
  {
   "cell_type": "code",
   "execution_count": 13,
   "metadata": {},
   "outputs": [],
   "source": [
    "df2_datos.to_excel('DatosExperimento2.xlsx', index=0)"
   ]
  },
  {
   "cell_type": "raw",
   "metadata": {},
   "source": [
    "df2_datos"
   ]
  },
  {
   "cell_type": "markdown",
   "metadata": {},
   "source": [
    "# Experimento22 2k"
   ]
  },
  {
   "cell_type": "code",
   "execution_count": 17,
   "metadata": {},
   "outputs": [],
   "source": [
    "#Combinaciones de parametros r_s, k_s, iteraciones\n",
    "\n",
    "rows=[]\n",
    "r_s=[0.1,0.9]\n",
    "k_s=[0.05,0.25]\n",
    "iteraciones=[500,10000]\n",
    "replicas=10\n",
    "comb=[(y,e,g) for y in r_s for e in k_s for g in iteraciones for s in range(replicas)]\n",
    "random.shuffle(comb)\n",
    "\n",
    "for (y,e,g) in comb:\n",
    "    bloques,periodos,C=parametros(J=1,T=10,C=0.3)\n",
    "    a_q=1/10\n",
    "    b_q=5\n",
    "    O,X,L,U=optimizacion(bloques=bloques,periodos=periodos,a_q=a_q,b_q=b_q,C=C)\n",
    "    T_o=0.75*O #Temperatura modificada\n",
    "    #r=0.5\n",
    "    a_o=2\n",
    "    #iteraciones=5000\n",
    "    iteraciones=g\n",
    "    I_o=999999\n",
    "    Z_o=-99999\n",
    "    a=0\n",
    "    i=0\n",
    "    #k=0.1\n",
    "    k_=list(np.linspace(-e,e,2))\n",
    "    E=[]\n",
    "    E.append(X)\n",
    "    Zs={(i,l):0 for i in range(iteraciones) for l in k_}\n",
    "    Xs=[]\n",
    "    n,Z_o,I_o,T_o=SA(iteraciones=iteraciones,T_o=T_o,r=y,a_o=a_o,I_o=I_o,Z_o=Z_o,a=a,n=n,k=e,k_=k_,E=E,Zs=Zs,Xs=Xs,X=X)\n",
    "    #print(j,y,e,O,Z_o,n,I_o,T_o) \n",
    "    row = {\n",
    "        'reduccion':y,\n",
    "        'paso':e,\n",
    "        'iteraciones':g,\n",
    "        'objective_base':O,\n",
    "        'objective_sa':Z_o,\n",
    "        'gap':abs(O-Z_o)/O if Z_o!=-99999 else 1,\n",
    "        'n':n,\n",
    "        'I_o':I_o,\n",
    "        'T_of':T_o,\n",
    "    }\n",
    "    rows.append(row)\n",
    "df22_datos = pd.DataFrame(rows)"
   ]
  },
  {
   "cell_type": "code",
   "execution_count": 18,
   "metadata": {},
   "outputs": [],
   "source": [
    "df22_datos.to_excel('DatosExperimento22.xlsx', index=0)"
   ]
  },
  {
   "cell_type": "markdown",
   "metadata": {},
   "source": [
    "# Experimento3 2k"
   ]
  },
  {
   "cell_type": "code",
   "execution_count": 14,
   "metadata": {},
   "outputs": [],
   "source": [
    "#Combinaciones de parametros r_s, k_s, iteraciones\n",
    "\n",
    "rows=[]\n",
    "r_s=[0.1,0.3,0.5,0.7,0.9]\n",
    "k_s=[0.05,0.1,0.15,0.2,0.25]\n",
    "iteraciones=[500,2500,5000,7000,10000]\n",
    "replicas=10\n",
    "comb=[(y,e,g) for y in r_s for e in k_s for g in iteraciones for s in range(replicas)]\n",
    "random.shuffle(comb)\n",
    "\n",
    "for (y,e,g) in comb:\n",
    "    bloques,periodos,C=parametros(J=1,T=10,C=0.3)\n",
    "    a_q=1/10\n",
    "    b_q=5\n",
    "    O,X,L,U=optimizacion(bloques=bloques,periodos=periodos,a_q=a_q,b_q=b_q,C=C)\n",
    "    T_o=0.75*O\n",
    "    #r=0.5\n",
    "    a_o=2\n",
    "    #iteraciones=5000\n",
    "    iteraciones=g\n",
    "    I_o=999999\n",
    "    Z_o=-99999\n",
    "    a=0\n",
    "    i=0\n",
    "    #k=0.1\n",
    "    k_=list(np.linspace(-e,e,2))\n",
    "    E=[]\n",
    "    E.append(X)\n",
    "    Zs={(i,l):0 for i in range(iteraciones) for l in k_}\n",
    "    Xs=[]\n",
    "    n,Z_o,I_o,T_o=SA(iteraciones=iteraciones,T_o=T_o,r=y,a_o=a_o,I_o=I_o,Z_o=Z_o,a=a,n=n,k=e,k_=k_,E=E,Zs=Zs,Xs=Xs,X=X)\n",
    "    #print(j,y,e,O,Z_o,n,I_o,T_o) \n",
    "    row = {\n",
    "        'reduccion':y,\n",
    "        'paso':e,\n",
    "        'iteraciones':g,\n",
    "        'objective_base':O,\n",
    "        'objective_sa':Z_o,\n",
    "        'gap':abs(O-Z_o)/O if Z_o!=-99999 else 1,\n",
    "        'n':n,\n",
    "        'I_o':I_o,\n",
    "        'T_of':T_o,\n",
    "    }\n",
    "    rows.append(row)\n",
    "df3_datos = pd.DataFrame(rows)"
   ]
  },
  {
   "cell_type": "code",
   "execution_count": 15,
   "metadata": {},
   "outputs": [],
   "source": [
    "df3_datos.to_excel('DatosExperimento3.xlsx', index=0)"
   ]
  },
  {
   "cell_type": "raw",
   "metadata": {},
   "source": [
    "df3_datos"
   ]
  }
 ],
 "metadata": {
  "kernelspec": {
   "display_name": "Python 3",
   "language": "python",
   "name": "python3"
  },
  "language_info": {
   "codemirror_mode": {
    "name": "ipython",
    "version": 3
   },
   "file_extension": ".py",
   "mimetype": "text/x-python",
   "name": "python",
   "nbconvert_exporter": "python",
   "pygments_lexer": "ipython3",
   "version": "3.8.8"
  }
 },
 "nbformat": 4,
 "nbformat_minor": 2
}
